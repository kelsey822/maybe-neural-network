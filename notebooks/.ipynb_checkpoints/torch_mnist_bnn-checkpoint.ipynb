{
 "cells": [
  {
   "cell_type": "markdown",
   "id": "f7c0f42a-8989-4afb-8f52-5229ed599e51",
   "metadata": {},
   "source": [
    "# 2-Layer Bayesian Neural Network with PyTorch\n",
    "This notebook trains a 2 layer neural network on the [MNIST digit recognizer set](https://www.kaggle.com/competitions/digit-recognizer/data). The purpose of this notebook is to have a simple starting point to use building a Bayesian neural network using variaional inference."
   ]
  },
  {
   "cell_type": "code",
   "execution_count": 1,
   "id": "770ee658-4619-4343-a597-cb762c1fce63",
   "metadata": {},
   "outputs": [],
   "source": [
    "import torch\n",
    "import torch.nn as nn\n",
    "import torch.nn.functional as F\n",
    "import torch.optim as optim\n",
    "from torchvision import datasets, transforms\n",
    "from torch.utils.data import DataLoader"
   ]
  },
  {
   "cell_type": "markdown",
   "id": "4007c69a-8f84-40f6-b656-25dd85f2e578",
   "metadata": {
    "jp-MarkdownHeadingCollapsed": true
   },
   "source": [
    "## Define Bayesian NN"
   ]
  },
  {
   "cell_type": "markdown",
   "id": "3a674a13-f3d7-4f2c-8aa7-e3fd86663b90",
   "metadata": {},
   "source": [
    "The class `BayesianNN` defines a fully connected 2-layer Bayesian Neural Network in PyTorch. Instead of fixed weights and biases, each parameter is represented by a probability distribution — specifically, a Normal distribution with trainable mean and standard deviation. This enables the network to model uncertainty through variational inference.\n",
    "\n",
    "1. Variational Parameters\n",
    "\n",
    "In the constructor `__init__`, each weight and bias has two associated parameters:\n",
    "- $ \\mu $: the mean of the distribution\n",
    "- $ \\log \\sigma $: the log of the standard deviation\n",
    "\n",
    "\n",
    "2. Sampling Weights\n",
    "\n",
    "The method `sample_weights()` uses the reparameterization trick to draw samples from each weight’s distribution:\n",
    "$$\n",
    "w = \\mu + \\sigma \\cdot \\epsilon, \\quad \\epsilon \\sim \\mathcal{N}(0, I)\n",
    "$$\n",
    "\n",
    "This ensures gradients can flow through the sampling process during backprop.\n",
    "\n",
    "3. Forward Pass\n",
    "\n",
    "The method `forward(X, weights)` performs the forward pass of the network:\n",
    "* Computes the pre-activation of the hidden layer:\n",
    "   $$\n",
    "   Z^{(1)} = W^{(1)} X + b^{(1)}\n",
    "   $$\n",
    "* Applies ReLU non-linearity:\n",
    "   $$\n",
    "   A^{(1)} = \\text{ReLU}(Z^{(1)})\n",
    "   $$\n",
    "* Computes the output layer:\n",
    "   $$\n",
    "   Z^{(2)} = W^{(2)} A^{(1)} + b^{(2)}\n",
    "   $$\n",
    "* Applies log-softmax to obtain log-probabilities:\n",
    "   $$\n",
    "   A^{(2)} = \\log\\left( \\frac{e^{Z^{(2)}}}{\\sum e^{Z^{(2)}}} \\right)\n",
    "   $$\n",
    "\n",
    "4. KL Divergence\n",
    "\n",
    "The method `kl_divergence()` computes the total KL divergence between each variational posterior $q(w) = \\mathcal{N}(\\mu, \\sigma^2$ and a standard Normal prior $p(w) = \\\\mathcal{N}(0, 1)$:\n",
    "$$\n",
    "\\text{KL}(q(w) \\| p(w)) = \\frac{1}{2} \\sum \\left( \\mu^2 + \\sigma^2 - 1 - 2\\log\\sigma \\right)\n",
    "$$\n",
    "\n",
    "This term is added to the loss during training as a regularizer and is critical to optimizing the variational objective (ELBO).\n"
   ]
  },
  {
   "cell_type": "code",
   "execution_count": 2,
   "id": "7d408573-d06b-4478-82de-dfc1ae09c487",
   "metadata": {},
   "outputs": [],
   "source": [
    "class BayesianNN(nn.Module):\n",
    "    def __init__(self, input_dim=784, hidden_dim=128, output_dim=10):\n",
    "        super().__init__()\n",
    "        # Variational parameters for weights and biases\n",
    "        self.W1_mu = nn.Parameter(torch.randn(hidden_dim, input_dim) * 0.1)\n",
    "        self.W1_log_std = nn.Parameter(torch.full((hidden_dim, input_dim), -3.0))\n",
    "        self.b1_mu = nn.Parameter(torch.zeros(hidden_dim))\n",
    "        self.b1_log_std = nn.Parameter(torch.full((hidden_dim,), -3.0))\n",
    "\n",
    "        self.W2_mu = nn.Parameter(torch.randn(output_dim, hidden_dim) * 0.1)\n",
    "        self.W2_log_std = nn.Parameter(torch.full((output_dim, hidden_dim), -3.0))\n",
    "        self.b2_mu = nn.Parameter(torch.zeros(output_dim))\n",
    "        self.b2_log_std = nn.Parameter(torch.full((output_dim,), -3.0))\n",
    "\n",
    "    def sample_weights(self):\n",
    "        weights = {}\n",
    "        for name in ['W1', 'b1', 'W2', 'b2']:\n",
    "            mu = getattr(self, f\"{name}_mu\")\n",
    "            log_std = getattr(self, f\"{name}_log_std\")\n",
    "            std = torch.exp(log_std)\n",
    "            eps = torch.randn_like(std)\n",
    "            weights[name] = mu + std * eps\n",
    "        return weights\n",
    "\n",
    "    def forward(self, X, weights):\n",
    "        Z1 = F.linear(X, weights['W1'], weights['b1'])\n",
    "        A1 = F.relu(Z1)\n",
    "        Z2 = F.linear(A1, weights['W2'], weights['b2'])\n",
    "        return F.log_softmax(Z2, dim=1)\n",
    "\n",
    "    def kl_divergence(self):\n",
    "        kl = 0\n",
    "        for name in ['W1', 'b1', 'W2', 'b2']:\n",
    "            mu = getattr(self, f\"{name}_mu\")\n",
    "            log_std = getattr(self, f\"{name}_log_std\")\n",
    "            std = torch.exp(log_std)\n",
    "            kl += 0.5 * torch.sum(std**2 + mu**2 - 1 - 2 * log_std)\n",
    "        return kl"
   ]
  },
  {
   "cell_type": "markdown",
   "id": "431cfb9f-2bc2-4116-bd08-7ed863a75ad2",
   "metadata": {
    "jp-MarkdownHeadingCollapsed": true
   },
   "source": [
    "## Data Loading and Transformation"
   ]
  },
  {
   "cell_type": "code",
   "execution_count": 3,
   "id": "382374f0-4887-4100-93bb-259f7f40e975",
   "metadata": {},
   "outputs": [
    {
     "name": "stderr",
     "output_type": "stream",
     "text": [
      "100%|████████████████████████████████████████████████████████████████████████████████████████████████████████████████████████████████████████████████████████████████████████████| 9.91M/9.91M [00:01<00:00, 5.81MB/s]\n",
      "100%|████████████████████████████████████████████████████████████████████████████████████████████████████████████████████████████████████████████████████████████████████████████| 28.9k/28.9k [00:00<00:00, 1.32MB/s]\n",
      "100%|████████████████████████████████████████████████████████████████████████████████████████████████████████████████████████████████████████████████████████████████████████████| 1.65M/1.65M [00:00<00:00, 8.92MB/s]\n",
      "100%|█████████████████████████████████████████████████████████████████████████████████████████████████████████████████████████████████████████████████████████████████████████████| 4.54k/4.54k [00:00<00:00, 640kB/s]\n"
     ]
    }
   ],
   "source": [
    "transform = transforms.Compose([transforms.ToTensor(), transforms.Lambda(lambda x: x.view(-1))])\n",
    "train_data = datasets.MNIST(root='./data', train=True, download=True, transform=transform)\n",
    "train_loader = DataLoader(train_data, batch_size=64, shuffle=True)"
   ]
  },
  {
   "cell_type": "code",
   "execution_count": 4,
   "id": "1b93566f-e334-4323-aa55-c1692536d987",
   "metadata": {},
   "outputs": [],
   "source": [
    "device = torch.device(\"cuda\" if torch.cuda.is_available() else \"cpu\")\n",
    "model = BayesianNN().to(device)\n",
    "optimizer = optim.Adam(model.parameters(), lr=1e-3)"
   ]
  },
  {
   "cell_type": "markdown",
   "id": "07ff736a-efe6-46c6-b697-1a41ea1ebbc4",
   "metadata": {
    "jp-MarkdownHeadingCollapsed": true
   },
   "source": [
    "## Training Loop"
   ]
  },
  {
   "cell_type": "code",
   "execution_count": 5,
   "id": "b5020a2f-da2f-49af-83a2-1ae0d3af64d6",
   "metadata": {},
   "outputs": [
    {
     "name": "stdout",
     "output_type": "stream",
     "text": [
      "Epoch 1, Loss: 4012.2554\n",
      "Epoch 2, Loss: 3058.0707\n",
      "Epoch 3, Loss: 2370.4411\n",
      "Epoch 4, Loss: 1949.2594\n",
      "Epoch 5, Loss: 1737.1480\n"
     ]
    }
   ],
   "source": [
    "model.train()\n",
    "for epoch in range(5):\n",
    "    total_loss = 0\n",
    "    for batch_idx, (data, target) in enumerate(train_loader):\n",
    "        data, target = data.to(device), target.to(device)\n",
    "        optimizer.zero_grad()\n",
    "\n",
    "        weights = model.sample_weights()\n",
    "        output = model(data, weights)\n",
    "        nll = F.nll_loss(output, target)\n",
    "        kl = model.kl_divergence() / len(train_loader.dataset)\n",
    "        loss = nll + kl\n",
    "\n",
    "        loss.backward()\n",
    "        optimizer.step()\n",
    "\n",
    "        total_loss += loss.item()\n",
    "    print(f\"Epoch {epoch + 1}, Loss: {total_loss:.4f}\")"
   ]
  },
  {
   "cell_type": "markdown",
   "id": "8c9148f7-8c3e-499f-86d4-dc4255265ab2",
   "metadata": {},
   "source": [
    "## Model Evaluation "
   ]
  },
  {
   "cell_type": "code",
   "execution_count": 6,
   "id": "4f00630d-c66a-47e8-a0b4-3080775589b5",
   "metadata": {},
   "outputs": [],
   "source": [
    "test_data = datasets.MNIST(root='./data', train=False, download=True, transform=transform)\n",
    "test_loader = DataLoader(test_data, batch_size=1000, shuffle=False)"
   ]
  },
  {
   "cell_type": "code",
   "execution_count": 7,
   "id": "f4d6a767-ca6d-4a70-8d13-4355243c5a81",
   "metadata": {},
   "outputs": [],
   "source": [
    "def evaluate(model, test_loader, samples=10):\n",
    "    model.eval()\n",
    "    correct = 0\n",
    "    total = 0\n",
    "\n",
    "    with torch.no_grad():\n",
    "        for data, target in test_loader:\n",
    "            data, target = data.to(device), target.to(device)\n",
    "\n",
    "            probs_sum = torch.zeros(data.size(0), 10).to(device)\n",
    "            for _ in range(samples):\n",
    "                weights = model.sample_weights()\n",
    "                output = model(data, weights)\n",
    "                probs_sum += output.exp()  # convert log probs to probs\n",
    "\n",
    "            avg_probs = probs_sum / samples\n",
    "            pred = avg_probs.argmax(dim=1)\n",
    "            correct += (pred == target).sum().item()\n",
    "            total += target.size(0)\n",
    "\n",
    "    accuracy = 100. * correct / total\n",
    "    print(f\"Test Accuracy: {accuracy:.2f}%\")"
   ]
  },
  {
   "cell_type": "code",
   "execution_count": 8,
   "id": "274363f4-1600-4a34-987a-b7dd4713fffc",
   "metadata": {},
   "outputs": [
    {
     "name": "stdout",
     "output_type": "stream",
     "text": [
      "Test Accuracy: 97.31%\n"
     ]
    }
   ],
   "source": [
    "evaluate(model, test_loader, samples=10)"
   ]
  },
  {
   "cell_type": "code",
   "execution_count": 11,
   "id": "fde4178b-d807-4a42-ac77-6e1da356f4c5",
   "metadata": {},
   "outputs": [],
   "source": [
    "# generate plots to visualize uncertainty \n",
    "import matplotlib.pyplot as plt\n",
    "import torch\n",
    "import scipy.stats\n",
    "\n",
    "\n",
    "def plot_prediction_confidence(model, test_loader, samples=30):\n",
    "    model.eval()\n",
    "    confidences = []\n",
    "\n",
    "    with torch.no_grad():\n",
    "        for data, _ in test_loader:\n",
    "            data = data.to(device)\n",
    "            probs_sum = torch.zeros(data.size(0), 10).to(device)\n",
    "\n",
    "            for _ in range(samples):\n",
    "                weights = model.sample_weights()\n",
    "                output = model(data, weights)\n",
    "                probs_sum += output.exp()\n",
    "\n",
    "            avg_probs = probs_sum / samples\n",
    "            max_conf = avg_probs.max(dim=1).values\n",
    "            confidences.extend(max_conf.cpu().numpy())\n",
    "\n",
    "    plt.hist(confidences, bins=20, range=(0, 1), color='steelblue', edgecolor='black')\n",
    "    plt.title(\"Prediction Confidence Distribution\")\n",
    "    plt.xlabel(\"Max Predicted Probability\")\n",
    "    plt.ylabel(\"Number of Samples\")\n",
    "    plt.grid(True)\n",
    "    plt.show()\n",
    "\n",
    "def plot_entropy_distribution(model, test_loader, samples=30):\n",
    "    model.eval()\n",
    "    entropies = []\n",
    "\n",
    "    with torch.no_grad():\n",
    "        for data, _ in test_loader:\n",
    "            data = data.to(device)\n",
    "            probs_sum = torch.zeros(data.size(0), 10).to(device)\n",
    "\n",
    "            for _ in range(samples):\n",
    "                weights = model.sample_weights()\n",
    "                output = model(data, weights)\n",
    "                probs_sum += output.exp()\n",
    "\n",
    "            avg_probs = (probs_sum / samples).cpu().numpy()\n",
    "            entropy = scipy.stats.entropy(avg_probs.T)  # shape: (batch,)\n",
    "            entropies.extend(entropy)\n",
    "\n",
    "    plt.hist(entropies, bins=30, color='darkorange', edgecolor='black')\n",
    "    plt.title(\"Predictive Entropy Distribution\")\n",
    "    plt.xlabel(\"Entropy\")\n",
    "    plt.ylabel(\"Number of Samples\")\n",
    "    plt.grid(True)\n",
    "    plt.show()"
   ]
  },
  {
   "cell_type": "code",
   "execution_count": 12,
   "id": "679af827-a09c-430c-8591-061826716e5b",
   "metadata": {},
   "outputs": [
    {
     "data": {
      "image/png": "[encoded data removed]",
      "text/plain": [
       "<Figure size 640x480 with 1 Axes>"
      ]
     },
     "metadata": {},
     "output_type": "display_data"
    }
   ],
   "source": [
    "plot_prediction_confidence(model, test_loader, samples=30)"
   ]
  },
  {
   "cell_type": "code",
   "execution_count": 13,
   "id": "cfb6adec-b095-4293-a33f-180f32a657ee",
   "metadata": {},
   "outputs": [
    {
     "data": {
      "image/png": "[encoded data removed]",
      "text/plain": [
       "<Figure size 640x480 with 1 Axes>"
      ]
     },
     "metadata": {},
     "output_type": "display_data"
    }
   ],
   "source": [
    "plot_entropy_distribution(model, test_loader, samples=30)"
   ]
  }
 ],
 "metadata": {
  "kernelspec": {
   "display_name": "Python 3 (ipykernel)",
   "language": "python",
   "name": "python3"
  },
  "language_info": {
   "codemirror_mode": {
    "name": "ipython",
    "version": 3
   },
   "file_extension": ".py",
   "mimetype": "text/x-python",
   "name": "python",
   "nbconvert_exporter": "python",
   "pygments_lexer": "ipython3",
   "version": "3.11.7"
  }
 },
 "nbformat": 4,
 "nbformat_minor": 5
}
