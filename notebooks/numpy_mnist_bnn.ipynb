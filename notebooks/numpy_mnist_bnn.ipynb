{
 "cells": [
  {
   "cell_type": "markdown",
   "id": "388da812-8c59-4567-85c9-8590a0f17951",
   "metadata": {},
   "source": [
    "# 2-Layer Bayesian Neural Network with NumPy\n",
    "This notebook trains a 2 layer neural network on the [MNIST digit recognizer set](https://www.kaggle.com/competitions/digit-recognizer/data). The purpose of this notebook is to have a simple starting point to use building a Bayesian neural network using variaional inference. Also, this neural network is built without using PyTorch, instead all functions are defined using NumPy so that the mathematical steps are fully shown.\n"
   ]
  },
  {
   "cell_type": "markdown",
   "id": "8eeef4dd-3b96-4185-9669-dbcdf3cfc91b",
   "metadata": {
    "jp-MarkdownHeadingCollapsed": true
   },
   "source": [
    "## Data Setup"
   ]
  },
  {
   "cell_type": "code",
   "execution_count": 1,
   "id": "9d7e6f17-f1ea-4473-b668-f66c15a92404",
   "metadata": {},
   "outputs": [],
   "source": [
    "import numpy as np\n",
    "import pandas as pd\n",
    "from matplotlib import pyplot as plt"
   ]
  },
  {
   "cell_type": "code",
   "execution_count": 2,
   "id": "2383bb1d-2fbe-47a1-9721-b2dbfade1777",
   "metadata": {},
   "outputs": [],
   "source": [
    "# import the data (MNIST)\n",
    "data = pd.read_csv('/Users/kelseychen/Downloads/digit-recognizer/train.csv')"
   ]
  },
  {
   "cell_type": "markdown",
   "id": "be6cc5d2-0878-40cc-a710-3dc63446bc10",
   "metadata": {},
   "source": [
    "The data contains images of hand drawn digits between 0-9 that are 28x28 pixels each with a pixel value btween 0-255 to denote the shade of the pixel. Here 0 represents white and 255 represents black. \n",
    "\n",
    "The neural network will have two layer architecure where the input layer has 784 neurons. The hiden layer uses ReLU activation and the final layer uses softmax activation. "
   ]
  },
  {
   "cell_type": "code",
   "execution_count": 3,
   "id": "db22816c-09f9-4206-a7d2-b1ffb6aa6a5d",
   "metadata": {},
   "outputs": [],
   "source": [
    "# convert the data to np array\n",
    "data = np.array(data)\n",
    "m, n = data.shape\n",
    "\n",
    "# shuffle the data before splitting into training and test sets\n",
    "np.random.shuffle(data)\n",
    "\n",
    "# split the data\n",
    "data_test = data[0:1000].T\n",
    "Y_test = data_test[0]\n",
    "X_test = data_test[1:n]\n",
    "X_test = X_test / 255. # normalize \n",
    "\n",
    "data_train = data[1000:m].T\n",
    "Y_train = data_train[0]\n",
    "X_train = data_train[1:n]\n",
    "X_train = X_train / 255. # normalize \n",
    "\n",
    "_,m_train = X_train.shape"
   ]
  },
  {
   "cell_type": "code",
   "execution_count": 4,
   "id": "0497210b-1767-4159-ad40-bb2a2e5c8400",
   "metadata": {},
   "outputs": [
    {
     "data": {
      "text/plain": [
       "array([7, 6, 1, ..., 2, 4, 4])"
      ]
     },
     "execution_count": 4,
     "metadata": {},
     "output_type": "execute_result"
    }
   ],
   "source": [
    "Y_train"
   ]
  },
  {
   "cell_type": "markdown",
   "id": "f3d4d981-3655-4696-a93c-d6bb43f24599",
   "metadata": {
    "jp-MarkdownHeadingCollapsed": true
   },
   "source": [
    "## Activation and Utility Functions\n",
    "\n",
    "ReLU activation in the hidden layers of the network. The derivative of ReLu is used during backpropogation. \n",
    "\n",
    "Softmax is used to convert a vector of real numbers to a probability distribution and it used in the output layer of the network\n",
    "\n",
    "One-hot is used to convert class labels to encoded vectors. This function s used to compute the loss during training."
   ]
  },
  {
   "cell_type": "code",
   "execution_count": 5,
   "id": "0214f88c-0ca2-4e9b-bef5-5fb117a5e0a4",
   "metadata": {},
   "outputs": [],
   "source": [
    "def relu(Z):\n",
    "    return np.maximum(0, Z)\n",
    "\n",
    "def relu_deriv(Z):\n",
    "    return Z > 0\n",
    "\n",
    "def softmax(Z):\n",
    "    Z -= np.max(Z, axis=0, keepdims=True)\n",
    "    expZ = np.exp(Z)\n",
    "    return expZ / np.sum(expZ, axis=0, keepdims=True)\n",
    "\n",
    "def one_hot(Y, num_classes=10):\n",
    "    return np.eye(num_classes)[Y].T"
   ]
  },
  {
   "cell_type": "markdown",
   "id": "569dcfe5-b6c8-4b48-a586-50dc4c998e9e",
   "metadata": {
    "jp-MarkdownHeadingCollapsed": true
   },
   "source": [
    "## Model Weights as Distributions\n",
    "\n",
    "Below we initialize the variational parameters for each weight and bias in the neural network. For a Bayesian neural network, we assume each weight is a distribution instead of having the traditional fixed weights. In this case, we assume a normal distribution over the weights. To stabilize the calculations we will work with $$\\mu$$ (the mean of the distribution) and $$log(\\sigma)$$ (the log of the standard deviation).\n",
    "\n",
    "In `sample weights` we sample the weights from the distribution by using the reparameterization trick. They are then used in the forward pass to calculate predictions. "
   ]
  },
  {
   "cell_type": "code",
   "execution_count": 6,
   "id": "5b1550ef-9132-474c-8c8d-6b96c6e21879",
   "metadata": {},
   "outputs": [],
   "source": [
    "# use a Normal distribution \n",
    "def init_variational_params(input_dim, hidden_dim, output_dim):\n",
    "    params = {}\n",
    "    for name, shape in {\n",
    "        'W1': (hidden_dim, input_dim),\n",
    "        'b1': (hidden_dim, 1),\n",
    "        'W2': (output_dim, hidden_dim),\n",
    "        'b2': (output_dim, 1)\n",
    "    }.items():\n",
    "        # initialize the mean of each weight\n",
    "        if 'W' in name:\n",
    "            fan_in = shape[1]\n",
    "            params[name + '_mu'] = np.random.randn(*shape) * np.sqrt(2. / fan_in)\n",
    "        else:\n",
    "\n",
    "            params[name + '_mu'] = np.zeros(shape)\n",
    "\n",
    "        # initialize the log standard deviation \n",
    "        params[name + '_log_std'] = np.full(shape, -3.0)  # small std at first\n",
    "    return params"
   ]
  },
  {
   "cell_type": "code",
   "execution_count": 7,
   "id": "ca24709b-5987-4adf-8ad2-74877e49ba1a",
   "metadata": {},
   "outputs": [],
   "source": [
    "def sample_weights(params):\n",
    "    weights, eps_cache = {}, {}\n",
    "    for key in ['W1', 'b1', 'W2', 'b2']:\n",
    "        mu = params[key + '_mu']\n",
    "\n",
    "        # convert to std\n",
    "        std = np.exp(params[key + '_log_std'])\n",
    "\n",
    "        # sample epsilon from N(0,1)\n",
    "        eps = np.random.randn(*mu.shape)\n",
    "\n",
    "        # sample w ~ N(mu, std^2)\n",
    "        weights[key] = mu + std * eps\n",
    "        eps_cache[key] = eps\n",
    "    return weights, eps_cache"
   ]
  },
  {
   "cell_type": "markdown",
   "id": "664467cd-8f37-4778-8c4d-00479cad5dbc",
   "metadata": {
    "jp-MarkdownHeadingCollapsed": true
   },
   "source": [
    "## Forward and Backwards Pass \n",
    "\n",
    "In the forward pass we want to compute the pre-activation input to the hidden layer that is \n",
    "$$\n",
    "Z^{(1)} = W^{(1)}X+b^{(1)}\n",
    "$$\n",
    "where \n",
    "$$\n",
    "W^{(1)} \\in \\mathbb R^{h\\times d} \\quad \\text{ are the weights} \n",
    "$$\n",
    " \n",
    "$$\n",
    "X \\in \\mathbb  R^{d\\times m} \\quad \\text{ are the input features} \n",
    "$$\n",
    " \n",
    "$$\n",
    "b^{(1)}) \\in  R^{h\\times 1} \\quad \\text{ is the bias vector}\n",
    "$$"
   ]
  },
  {
   "cell_type": "code",
   "execution_count": 8,
   "id": "6a946789-bd63-415b-bd8f-670e785f2936",
   "metadata": {},
   "outputs": [],
   "source": [
    "def forward(X, weights):\n",
    "    Z1 = weights['W1'] @ X + weights['b1']\n",
    "\n",
    "    # apply ReLU activation to introduce non-linearity \n",
    "    A1 = relu(Z1)\n",
    "\n",
    "    # copute the pre-activation input\n",
    "    Z2 = weights['W2'] @ A1 + weights['b2']\n",
    "    \n",
    "    # apply softmax activation to produce probabilities\n",
    "    A2 = softmax(Z2)\n",
    "\n",
    "    # save values to use in backprop\n",
    "    cache = {'X': X, 'Z1': Z1, 'A1': A1, 'Z2': Z2, 'A2': A2}\n",
    "    return A2, cache"
   ]
  },
  {
   "cell_type": "markdown",
   "id": "928ad02a-9bc4-48f5-a299-13204dbe8f4b",
   "metadata": {},
   "source": [
    "The function `backward` computes  \n",
    "$$\n",
    "\\nabla_{\\mu, \\log \\sigma} \\mathrm{ELBO}\n",
    "= \\nabla_{\\mu, \\log \\sigma}\n",
    "\\left[\\, -\\log p(y \\mid x, w) \\;+\\; \\mathrm{KL}(q(w)\\,\\|\\,p(w)) \\right],\n",
    "$$  \n",
    "where the first term corresponds to the negative log-likelihood and the second term is the KL divergence between the variational posterior $q(w)$ and a standard normal prior $ p(w) $.\n",
    "1. Compute the gradient of the negative log-likelihood\n",
    "\n",
    "Let  \n",
    "$$\n",
    "\\hat{Y} = A^{(2)} \\in \\mathbb{R}^{k \\times m}, \\quad \\text{(predicted probabilities)}\n",
    "$$\n",
    "$$\n",
    "Y \\in \\mathbb{R}^{k \\times m}, \\quad \\text{(one-hot encoded true labels)}\n",
    "$$\n",
    "\n",
    "Then the gradient of the loss with respect to the output logits is:\n",
    "$$\n",
    "dZ^{(2)} = \\hat{Y} - Y\n",
    "$$\n",
    "\n",
    "2. Compute the gradients of the output weights and biases\n",
    "\n",
    "Let $ m $ be the number of examples in the batch:\n",
    "$$\n",
    "\\nabla_{W^{(2)}_\\mu} = \\frac{1}{m} dZ^{(2)} (A^{(1)})^T\n",
    "$$\n",
    "$$\n",
    "\\nabla_{b^{(2)}_\\mu} = \\frac{1}{m} \\sum dZ^{(2)}\n",
    "$$\n",
    "\n",
    "3. Backpropagate to the hidden layer\n",
    "\n",
    "Propagate the error backward:\n",
    "$$\n",
    "dA^{(1)} = (W^{(2)})^T dZ^{(2)}\n",
    "$$\n",
    "$$\n",
    "dZ^{(1)} = dA^{(1)} \\circ \\text{ReLU}'(Z^{(1)})\n",
    "$$\n",
    "\n",
    "Then compute the gradients:\n",
    "$$\n",
    "\\nabla_{W^{(1)}_\\mu} = \\frac{1}{m} dZ^{(1)} X^T\n",
    "$$\n",
    "$$\n",
    "\\nabla_{b^{(1)}_\\mu} = \\frac{1}{m} \\sum dZ^{(1)}\n",
    "$$\n",
    "\n",
    "4. Add the KL divergence gradients\n",
    "\n",
    "Assume the variational posterior:\n",
    "$$\n",
    "q(w) = \\mathcal{N}(\\mu, \\sigma^2), \\quad \\text{with prior } p(w) = \\mathcal{N}(0, 1)\n",
    "$$\n",
    "\n",
    "Then the gradients of the KL divergence term are:\n",
    "\n",
    "- With respect to the mean $ \\mu $:\n",
    "$$\n",
    "\\nabla_{\\mu} \\mathrm{KL} = \\frac{\\mu}{m}\n",
    "$$\n",
    "\n",
    "- With respect to the log standard deviation$\\log \\sigma $, using $ \\sigma = e^{\\\\log \\sigma} $:\n",
    "$$\n",
    "\\nabla_{\\\\log \\sigma} \\mathrm{KL} = \\frac{1}{m} (\\sigma^2 - 1)\n",
    "$$\n",
    "\n",
    "5. Include the reparameterization term\n",
    "\n",
    "Since weights are sampled as:\n",
    "$$\n",
    "w = \\mu + \\sigma \\cdot \\epsilon,\n",
    "$$\n",
    "\n",
    "the derivative of the likelihood with respect to $\\log \\sigma$ includes:\n",
    "$$\n",
    "\\nabla_{\\log \\sigma} \\mathcal{L}_{\\text{likelihood}} = \\sigma \\cdot \\epsilon \\cdot \\nabla_{\\mu} \\mathcal{L}\n",
    "$$\n",
    "\n",
    "\n",
    "\n",
    "###  Final gradients used to update parameters\n",
    "\n",
    "For each weight or bias:\n",
    "$$\n",
    "\\nabla_{\\mu} \\mathcal{L}_{\\text{ELBO}} = \\nabla_{\\mu} \\mathcal{L}_{\\text{likelihood}} + \\frac{\\mu}{m}\n",
    "$$\n",
    "$$\n",
    "\\nabla_{\\log \\sigma} \\mathcal{L}_{\\text{ELBO}} = \\sigma \\cdot \\epsilon \\cdot \\nabla_{\\mu} \\mathcal{L}_{\\text{likelihood}} + \\frac{\\sigma^2 - 1}{m}\n",
    "$$\n",
    "\n",
    "These gradients are returned and used to update the variational parameters during training."
   ]
  },
  {
   "cell_type": "code",
   "execution_count": 9,
   "id": "1bfd99ef-0cb0-4665-96b3-1abb77a7cec2",
   "metadata": {},
   "outputs": [],
   "source": [
    "# gradient computation using KL scaling\n",
    "def backward(Y, cache, weights, eps_cache, params, m, kl_weight):\n",
    "    grads = {}\n",
    "\n",
    "    Y_hat = cache['A2']\n",
    "\n",
    "    # compute the derivative of softmax\n",
    "    dZ2 = Y_hat - Y  \n",
    "\n",
    "    # backprop from output to hidden\n",
    "    grads['W2_mu'] = (1/m) * dZ2 @ cache['A1'].T\n",
    "    grads['b2_mu'] = (1/m) * np.sum(dZ2, axis=1, keepdims=True)\n",
    "\n",
    "    # backprop through ReLu and hidden layer \n",
    "    dA1 = weights['W2'].T @ dZ2\n",
    "    dZ1 = dA1 * relu_deriv(cache['Z1'])\n",
    "\n",
    "    grads['W1_mu'] = (1/m) * dZ1 @ cache['X'].T\n",
    "    grads['b1_mu'] = (1/m) * np.sum(dZ1, axis=1, keepdims=True)\n",
    "\n",
    "    # store likelihood gradients separately before adding KL terms\n",
    "    likelihood_grads = {}\n",
    "    for key in ['W1', 'b1', 'W2', 'b2']:\n",
    "        likelihood_grads[key+'_mu'] = grads[key+'_mu'].copy()\n",
    "\n",
    "    # Add KL gradients\n",
    "    for key in ['W1', 'b1', 'W2', 'b2']:\n",
    "        mu = params[key + '_mu']\n",
    "        log_std = params[key + '_log_std']\n",
    "        std = np.exp(log_std)\n",
    "        eps = eps_cache[key]\n",
    "\n",
    "        # KL gradient with respect to mu: scale by kl_weight\n",
    "        grads[key + '_mu'] = likelihood_grads[key+'_mu'] + kl_weight * (mu / m)\n",
    "\n",
    "        # KL gradient with respect to log_std: using likelihood grad for mu\n",
    "        grads[key + '_log_std'] = std * eps * likelihood_grads[key+'_mu'] + kl_weight * ((std**2 - 1) / m)\n",
    "\n",
    "    return grads"
   ]
  },
  {
   "cell_type": "markdown",
   "id": "6c3cac21-93dc-4e31-bfea-106ab41f8c39",
   "metadata": {
    "jp-MarkdownHeadingCollapsed": true
   },
   "source": [
    "## Compute Loss and Train Functions"
   ]
  },
  {
   "cell_type": "markdown",
   "id": "80ac8fba-bad5-469d-a50a-2a1feb37a759",
   "metadata": {},
   "source": [
    "The function `compute_elbo` calculates the Evidence Lower Bound (ELBO), which is the total loss function optimized in variational inference. It consists of two terms: the negative log-likelihood (data fit) and the KL divergence (regularization).\n",
    "\n",
    "The ELBO is given by:\n",
    "    $$ELBO = -log p(y | x, w) + KL(q(w) || p(w))$$\n",
    "\n",
    "1. Compute the negative log-likelihood\n",
    "\n",
    "Assume a softmax output and use the cross-entropy loss:\n",
    "   $$ NLL = -(1/m) * \\sum_{i=1}^m \\sum_{c=1}^k Y_{c,i} * log(Y_hat_{c,i})$$\n",
    "\n",
    "where:\n",
    "- `Y` is the one-hot encoded true label matrix of shape (k × m)\n",
    "- `Y_hat` is the predicted softmax output of shape (k × m)\n",
    "- `m` is the number of examples in the batch\n",
    "\n",
    "2. Compute the KL divergence\n",
    "\n",
    "For each variational parameter q(w) = N(μ, σ²), assuming a standard normal prior p(w) = N(0, 1), the KL divergence is:\n",
    "    $$KL = (1/2) * \\sum(μ² + σ² - 1 - 2 * log(σ))$$\n",
    "\n",
    "Since `σ = exp(log_std)`, we compute this as:\n",
    "\n",
    "```python\n",
    "kl += 0.5 * np.sum(mu**2 + std**2 - 1 - 2 * log_std)\n",
    "```\n",
    "\n",
    "3. Return the total ELBO\n",
    "\n",
    "The final loss is:\n",
    "    $$ELBO = NLL + (KL / m)$$\n",
    "\n",
    "This scaling ensures that both terms are on similar scales, especially when using minibatches.\n",
    "\n"
   ]
  },
  {
   "cell_type": "code",
   "execution_count": 10,
   "id": "17a1dedb-5ced-49f3-bc4f-4f46c4fd64fa",
   "metadata": {},
   "outputs": [],
   "source": [
    "def compute_elbo(Y, Y_hat, params, kl_weight=1.0):\n",
    "    m = Y.shape[1]\n",
    "    log_likelihood = -np.sum(Y * np.log(Y_hat + 1e-8)) / m\n",
    "    kl = 0\n",
    "    for key in ['W1', 'b1', 'W2', 'b2']:\n",
    "        mu = params[key + '_mu']\n",
    "        log_std = params[key + '_log_std']\n",
    "        std = np.exp(log_std)\n",
    "        kl += 0.5 * np.sum(mu**2 + std**2 - 1 - 2 * log_std)\n",
    "    elbo = log_likelihood + kl_weight * (kl / m)\n",
    "    return elbo, log_likelihood, kl / m"
   ]
  },
  {
   "cell_type": "markdown",
   "id": "acac7d77-5c9f-496f-829e-50fbda405e0c",
   "metadata": {},
   "source": [
    "The function `train` performs training of the Bayesian neural network by minimizing the ELBO loss using stochastic gradient descent with mini-batches, learning rate decay, and a KL weight ramp-up schedule.\n",
    "\n",
    "1. Learning rate and KL weight schedule\n",
    "\n",
    "- The learning rate decays exponentially each epoch:\n",
    "     $$lr_{epoch} = lr * (lr_{decay} ** epoch)$$\n",
    "\n",
    "- The KL weight increases gradually using a logistic ramp-up function centered near the end of training:\n",
    "      $$kl_{weight} = 1 / (1 + exp(-(epoch - ramp_{center}) / ramp_{scale}))$$\n",
    "\n",
    "\n",
    "2. Shuffle and split into mini-batches\n",
    "\n",
    "The data is randomly shuffled and split into mini-batches of size `batch_size`. For each batch:\n",
    "\n",
    "- Extract batch inputs `X_batch` and labels `Y_batch`\n",
    "- Convert `Y_batch` into one-hot encoded format `Y_batch_oh`\n",
    "\n",
    "\n",
    "3. Forward and backward pass\n",
    "\n",
    "For each mini-batch:\n",
    "\n",
    "- Sample weights from the variational distribution using reparameterization\n",
    "- Compute predictions using `forward`\n",
    "- Compute gradients using `backward` with respect to both `mu` and `log_std`\n",
    "\n",
    "4. Parameter updates\n",
    "\n",
    "The parameters are updated using stochastic gradient descent:\n",
    "\n",
    "- Gradients for `mu` are updated with the current learning rate\n",
    "- Gradients for `log_std` are updated with a 10× larger learning rate to accelerate uncertainty tuning:\n",
    "\n",
    "\n",
    "5. ELBO loss tracking\n",
    "\n",
    "After each batch:\n",
    "- Compute the ELBO, negative log-likelihood, and KL term using `compute_elbo`\n",
    "- Track the average ELBO loss over the entire epoch\n"
   ]
  },
  {
   "cell_type": "code",
   "execution_count": 11,
   "id": "1a844b8d-b19f-423f-b640-a2471dd58ede",
   "metadata": {},
   "outputs": [],
   "source": [
    "def train(X, Y, params, epochs=50, lr=0.05, batch_size=64, lr_decay=0.98):\n",
    "    m_total = Y.shape[0]\n",
    "    # Set a slower ramp-up: ramp center at 80% of epochs, ramp scale at 10% of epochs\n",
    "    ramp_center = epochs * 0.8   # For 50 epochs, ramp_center=40\n",
    "    ramp_scale = epochs * 0.1    # For 50 epochs, ramp_scale=5\n",
    "\n",
    "    for epoch in range(epochs):\n",
    "        # Decay the learning rate gradually\n",
    "        lr_epoch = lr * (lr_decay ** epoch)\n",
    "        # Compute KL weight using a logistic ramp-up function\n",
    "        kl_weight = 1.0 / (1.0 + np.exp(-(epoch - ramp_center) / ramp_scale))\n",
    "        \n",
    "        # Shuffle the training data\n",
    "        permutation = np.random.permutation(m_total)\n",
    "        X_shuffled = X[:, permutation]\n",
    "        Y_shuffled = Y[permutation]\n",
    "        epoch_loss = 0\n",
    "        num_batches = int(np.ceil(m_total / batch_size))\n",
    "        \n",
    "        for i in range(num_batches):\n",
    "            start = i * batch_size\n",
    "            end = min((i+1) * batch_size, m_total)\n",
    "            X_batch = X_shuffled[:, start:end]\n",
    "            Y_batch = Y_shuffled[start:end]\n",
    "            Y_batch_oh = one_hot(Y_batch)\n",
    "            m_batch = Y_batch.shape[0]\n",
    "            \n",
    "            weights, eps_cache = sample_weights(params)\n",
    "            Y_hat, cache = forward(X_batch, weights)\n",
    "            grads = backward(Y_batch_oh, cache, weights, eps_cache, params, m_batch, kl_weight)\n",
    "            \n",
    "            # Update parameters (using a boosted learning rate for log_std parameters)\n",
    "            for key in grads:\n",
    "                if 'log_std' in key:\n",
    "                    params[key] -= (lr_epoch * 10) * grads[key]\n",
    "                else:\n",
    "                    params[key] -= lr_epoch * grads[key]\n",
    "            \n",
    "            elbo, ll, kl_term = compute_elbo(Y_batch_oh, Y_hat, params, kl_weight)\n",
    "            epoch_loss += elbo\n",
    "        \n",
    "        avg_epoch_loss = epoch_loss / num_batches\n",
    "        print(f\"Epoch {epoch+1}, lr: {lr_epoch:.5f}, KL weight: {kl_weight:.3f}, Avg Loss: {avg_epoch_loss:.4f}\")"
   ]
  },
  {
   "cell_type": "markdown",
   "id": "6fc91f44-ecac-4946-9576-ae0b63fd81ee",
   "metadata": {},
   "source": [
    "The function `predict` performs prediction using the Bayesian neural network by averaging over multiple samples from the variational distribution. This allows the model to capture predictive uncertainty.\n",
    "\n",
    "1. Monte Carlo sampling of weights\n",
    "Instead of making a prediction using a single set of weights, the function samples weights multiple times from the variational posterior:\n",
    "\n",
    "```python\n",
    "weights, _ = sample_weights(params)\n",
    "```\n",
    "\n",
    "For each sample, it performs a forward pass:\n",
    "\n",
    "```python\n",
    "probs, _ = forward(X, weights)\n",
    "```\n",
    "\n",
    "This gives a probability distribution over the output classes for each input.\n",
    "\n",
    "2. Average the predictions\n",
    "\n",
    "Each prediction is added to a running total:\n",
    "\n",
    "```python\n",
    "probs_sum += probs\n",
    "```\n",
    "\n",
    "After `num_samples` forward passes, we compute the average predicted probabilities:\n",
    "\n",
    "```python\n",
    "avg_probs = probs_sum / num_samples\n",
    "```\n",
    "\n",
    "This approximates the predictive distribution:\n",
    "    $$ p(y | x) ≈ (1/S) \\sum_{s=1}^S p(y | x, w_s) $$\n",
    "\n",
    "where each `w_s` is a sample from the variational posterior.\n",
    "\n",
    "\n",
    "3. Final prediction\n",
    "\n",
    "The final class prediction is taken as the argmax of the averaged probabilities:\n",
    "\n",
    "```python\n",
    "return np.argmax(avg_probs, axis=0)\n",
    "```\n"
   ]
  },
  {
   "cell_type": "code",
   "execution_count": 12,
   "id": "632bf9a8-e575-44cd-a758-e5037f73aaf5",
   "metadata": {},
   "outputs": [],
   "source": [
    "def predict(X, params, num_samples=50):\n",
    "    m = X.shape[1]\n",
    "    probs_sum = np.zeros((10, m))\n",
    "    for _ in range(num_samples):\n",
    "        weights, _ = sample_weights(params)\n",
    "        probs, _ = forward(X, weights)\n",
    "        probs_sum += probs\n",
    "    avg_probs = probs_sum / num_samples\n",
    "    return np.argmax(avg_probs, axis=0)"
   ]
  },
  {
   "cell_type": "markdown",
   "id": "8669eaf1-485c-4ca2-bc86-2877a81b5682",
   "metadata": {
    "jp-MarkdownHeadingCollapsed": true
   },
   "source": [
    "## Train the Network"
   ]
  },
  {
   "cell_type": "markdown",
   "id": "410f7ac9-315c-4c75-b8ad-e9872a4d7e7f",
   "metadata": {},
   "source": [
    "This block runs the full training and evaluation pipeline.\n",
    "\n",
    "1. Initialize variational parameters\n",
    "\n",
    "```python\n",
    "params = init_variational_params(784, 128, 10)\n",
    "```\n",
    "\n",
    "Initializes the means (`mu`) and log standard deviations (`log_std`) for all weights and biases in the network.\n",
    "\n",
    "We inspect the initial uncertainty (log std) of the first layer:\n",
    "\n",
    "```python\n",
    "print(\"W1_log_std before training (mean):\", np.mean(params['W1_log_std']))\n",
    "```\n",
    "\n",
    "2. Train the model\n",
    "\n",
    "```python\n",
    "train(X_train, Y_train, params, epochs=10, lr=0.05)\n",
    "```\n",
    "\n",
    "Trains the Bayesian neural network for 10 epochs using the training set. The function minimizes the ELBO loss, combining both likelihood and KL divergence terms.\n",
    "\n",
    "3. Predict on test set using Monte Carlo averaging\n",
    "\n",
    "```python\n",
    "Y_pred = predict(X_test, params, num_samples=30)\n",
    "```\n",
    "\n",
    "Performs prediction by averaging the output of 30 different forward passes with sampled weights. This approximates the posterior predictive distribution.\n",
    "\n",
    "\n",
    "4. Compute test accuracy\n",
    "\n",
    "```python\n",
    "acc = np.mean(Y_pred == Y_test)\n",
    "print(f\"Test Accuracy: {acc * 100:.2f}%\")\n",
    "```\n",
    "Compares predicted class labels with true labels to compute classification accuracy.\n",
    "\n",
    "5. Inspect learned uncertainty\n",
    "\n",
    "```python\n",
    "print(\"W1_log_std after training (mean):\", np.mean(params['W1_log_std']))\n",
    "```\n",
    "\n",
    "Prints the average log standard deviation of the first layer's weights after training. This helps verify that the model has learned to adjust its uncertainty.\n",
    "\n",
    "If `W1_log_std` increased or decreased significantly, it reflects how the model adapted its confidence in the weights during training."
   ]
  },
  {
   "cell_type": "code",
   "execution_count": 13,
   "id": "0902f89d-c8dd-405d-8579-0e89cbcae027",
   "metadata": {},
   "outputs": [
    {
     "name": "stdout",
     "output_type": "stream",
     "text": [
      "W1_log_std before training (mean): -3.0\n",
      "Epoch 1, lr: 0.05000, KL weight: 0.000, Avg Loss: 1.9772\n",
      "Epoch 2, lr: 0.04900, KL weight: 0.001, Avg Loss: 3.9842\n",
      "Epoch 3, lr: 0.04802, KL weight: 0.002, Avg Loss: 10.1142\n",
      "Epoch 4, lr: 0.04706, KL weight: 0.007, Avg Loss: 26.5890\n",
      "Epoch 5, lr: 0.04612, KL weight: 0.018, Avg Loss: 69.3617\n",
      "Epoch 6, lr: 0.04520, KL weight: 0.047, Avg Loss: 171.3388\n",
      "Epoch 7, lr: 0.04429, KL weight: 0.119, Avg Loss: 360.7525\n",
      "Epoch 8, lr: 0.04341, KL weight: 0.269, Avg Loss: 471.4871\n",
      "Epoch 9, lr: 0.04254, KL weight: 0.500, Avg Loss: 137.5842\n",
      "Epoch 10, lr: 0.04169, KL weight: 0.731, Avg Loss: 21.2316\n",
      "Test Accuracy: 76.40%\n",
      "W1_log_std after training (mean): -0.01244816787320679\n"
     ]
    }
   ],
   "source": [
    "params = init_variational_params(784, 128, 10)\n",
    "print(\"W1_log_std before training (mean):\", np.mean(params['W1_log_std']))\n",
    "\n",
    "train(X_train, Y_train, params, epochs=10, lr=0.05)\n",
    "\n",
    "Y_pred = predict(X_test, params, num_samples=30)\n",
    "acc = np.mean(Y_pred == Y_test)\n",
    "print(f\"Test Accuracy: {acc * 100:.2f}%\")\n",
    "print(\"W1_log_std after training (mean):\", np.mean(params['W1_log_std']))\n"
   ]
  },
  {
   "cell_type": "markdown",
   "id": "164a1b3b-6948-4fb3-a1ac-f3c58f105db5",
   "metadata": {},
   "source": [
    "## View Predictions"
   ]
  },
  {
   "cell_type": "code",
   "execution_count": 19,
   "id": "7dcd64a0-e933-4088-bdf4-fad7267d6923",
   "metadata": {},
   "outputs": [],
   "source": [
    "import scipy.stats\n",
    "\n",
    "def make_predictions(X, params):\n",
    "    # Sample one set of weights (deterministic forward pass)\n",
    "    weights, _ = sample_weights(params)\n",
    "    A2, _ = forward(X, weights)\n",
    "    predictions = np.argmax(A2, axis=0)\n",
    "    return predictions, weights\n",
    "\n",
    "def test_prediction(index, params, num_samples=30):\n",
    "    # Extract and reshape image\n",
    "    current_image = X_train[:, index, None]\n",
    "    label = Y_train[index]\n",
    "\n",
    "    # Run multiple forward passes to compute predictive distribution\n",
    "    probs_sum = np.zeros((10, 1))\n",
    "    for _ in range(num_samples):\n",
    "        weights, _ = sample_weights(params)\n",
    "        A2, _ = forward(current_image, weights)\n",
    "        probs_sum += A2\n",
    "\n",
    "    avg_probs = probs_sum / num_samples\n",
    "    entropy = scipy.stats.entropy(avg_probs[:, 0], base=2)\n",
    "\n",
    "    # Final predicted class\n",
    "    prediction = np.argmax(avg_probs, axis=0)\n",
    "\n",
    "    # Print results\n",
    "    print(\"Prediction:\", prediction[0])\n",
    "    print(\"Label:     \", label)\n",
    "    print(\"Entropy:   {:.4f}\".format(entropy))\n",
    "\n",
    "    # Display the image\n",
    "    img = current_image.reshape((28, 28)) * 255\n",
    "    plt.gray()\n",
    "    plt.imshow(img, interpolation='nearest')\n",
    "    plt.show()"
   ]
  },
  {
   "cell_type": "code",
   "execution_count": 20,
   "id": "ccfa4e28-5eae-40d7-b771-61cf71302f58",
   "metadata": {},
   "outputs": [
    {
     "name": "stdout",
     "output_type": "stream",
     "text": [
      "Prediction: 7\n",
      "Label:      7\n",
      "Entropy:   0.3549\n"
     ]
    },
    {
     "data": {
      "image/png": "[encoded data removed]",
      "text/plain": [
       "<Figure size 640x480 with 1 Axes>"
      ]
     },
     "metadata": {},
     "output_type": "display_data"
    },
    {
     "name": "stdout",
     "output_type": "stream",
     "text": [
      "Prediction: 6\n",
      "Label:      6\n",
      "Entropy:   2.6932\n"
     ]
    },
    {
     "data": {
      "image/png": "[encoded data removed]",
      "text/plain": [
       "<Figure size 640x480 with 1 Axes>"
      ]
     },
     "metadata": {},
     "output_type": "display_data"
    },
    {
     "name": "stdout",
     "output_type": "stream",
     "text": [
      "Prediction: 1\n",
      "Label:      1\n",
      "Entropy:   0.3977\n"
     ]
    },
    {
     "data": {
      "image/png": "[encoded data removed]",
      "text/plain": [
       "<Figure size 640x480 with 1 Axes>"
      ]
     },
     "metadata": {},
     "output_type": "display_data"
    },
    {
     "name": "stdout",
     "output_type": "stream",
     "text": [
      "Prediction: 0\n",
      "Label:      0\n",
      "Entropy:   1.9246\n"
     ]
    },
    {
     "data": {
      "image/png": "[encoded data removed]",
      "text/plain": [
       "<Figure size 640x480 with 1 Axes>"
      ]
     },
     "metadata": {},
     "output_type": "display_data"
    }
   ],
   "source": [
    "test_prediction(0, params)\n",
    "test_prediction(1, params)\n",
    "test_prediction(2, params)\n",
    "test_prediction(3, params)"
   ]
  },
  {
   "cell_type": "code",
   "execution_count": null,
   "id": "1be897a3-8109-44e4-8aa4-36359362c00c",
   "metadata": {},
   "outputs": [],
   "source": []
  }
 ],
 "metadata": {
  "kernelspec": {
   "display_name": "Python 3 (ipykernel)",
   "language": "python",
   "name": "python3"
  },
  "language_info": {
   "codemirror_mode": {
    "name": "ipython",
    "version": 3
   },
   "file_extension": ".py",
   "mimetype": "text/x-python",
   "name": "python",
   "nbconvert_exporter": "python",
   "pygments_lexer": "ipython3",
   "version": "3.11.7"
  }
 },
 "nbformat": 4,
 "nbformat_minor": 5
}
