{
 "cells": [
  {
   "cell_type": "markdown",
   "id": "f7c0f42a-8989-4afb-8f52-5229ed599e51",
   "metadata": {},
   "source": [
    "# 2-Layer Bayesian Neural Network with PyTorch\n",
    "This notebook trains a 2 layer neural network on the [MNIST digit recognizer set](https://www.kaggle.com/competitions/digit-recognizer/data). The purpose of this notebook is to have a simple starting point to use building a Bayesian neural network using variaional inference."
   ]
  },
  {
   "cell_type": "code",
   "execution_count": 1,
   "id": "770ee658-4619-4343-a597-cb762c1fce63",
   "metadata": {},
   "outputs": [],
   "source": [
    "import torch\n",
    "import torch.nn as nn\n",
    "import torch.nn.functional as F\n",
    "import torch.optim as optim\n",
    "from torchvision import datasets, transforms\n",
    "from torch.utils.data import DataLoader"
   ]
  },
  {
   "cell_type": "markdown",
   "id": "4007c69a-8f84-40f6-b656-25dd85f2e578",
   "metadata": {
    "jp-MarkdownHeadingCollapsed": true
   },
   "source": [
    "## Define Bayesian NN"
   ]
  },
  {
   "cell_type": "markdown",
   "id": "3a674a13-f3d7-4f2c-8aa7-e3fd86663b90",
   "metadata": {},
   "source": [
    "The class `BayesianNN` defines a fully connected 2-layer Bayesian Neural Network in PyTorch. Instead of fixed weights and biases, each parameter is represented by a probability distribution — specifically, a Normal distribution with trainable mean and standard deviation. This enables the network to model uncertainty through variational inference.\n",
    "\n",
    "1. Variational Parameters\n",
    "\n",
    "In the constructor `__init__`, each weight and bias has two associated parameters:\n",
    "- $ \\mu $: the mean of the distribution\n",
    "- $ \\log \\sigma $: the log of the standard deviation\n",
    "\n",
    "\n",
    "2. Sampling Weights\n",
    "\n",
    "The method `sample_weights()` uses the reparameterization trick to draw samples from each weight’s distribution:\n",
    "$$\n",
    "w = \\mu + \\sigma \\cdot \\epsilon, \\quad \\epsilon \\sim \\mathcal{N}(0, I)\n",
    "$$\n",
    "\n",
    "This ensures gradients can flow through the sampling process during backprop.\n",
    "\n",
    "3. Forward Pass\n",
    "\n",
    "The method `forward(X, weights)` performs the forward pass of the network:\n",
    "* Computes the pre-activation of the hidden layer:\n",
    "   $$\n",
    "   Z^{(1)} = W^{(1)} X + b^{(1)}\n",
    "   $$\n",
    "* Applies ReLU non-linearity:\n",
    "   $$\n",
    "   A^{(1)} = \\text{ReLU}(Z^{(1)})\n",
    "   $$\n",
    "* Computes the output layer:\n",
    "   $$\n",
    "   Z^{(2)} = W^{(2)} A^{(1)} + b^{(2)}\n",
    "   $$\n",
    "* Applies log-softmax to obtain log-probabilities:\n",
    "   $$\n",
    "   A^{(2)} = \\log\\left( \\frac{e^{Z^{(2)}}}{\\sum e^{Z^{(2)}}} \\right)\n",
    "   $$\n",
    "\n",
    "4. KL Divergence\n",
    "\n",
    "The method `kl_divergence()` computes the total KL divergence between each variational posterior $q(w) = \\mathcal{N}(\\mu, \\sigma^2$ and a standard Normal prior $p(w) = \\mathcal{N}(0, 1)$:\n",
    "$$\n",
    "\\text{KL}(q(w) \\| p(w)) = \\frac{1}{2} \\sum \\left( \\mu^2 + \\sigma^2 - 1 - 2\\log\\sigma \\right)\n",
    "$$\n",
    "\n",
    "This term is added to the loss during training as a regularizer and is critical to optimizing the variational objective (ELBO).\n"
   ]
  },
  {
   "cell_type": "code",
   "execution_count": 2,
   "id": "7d408573-d06b-4478-82de-dfc1ae09c487",
   "metadata": {},
   "outputs": [],
   "source": [
    "class BayesianNN(nn.Module):\n",
    "    def __init__(self, input_dim=784, hidden_dim=128, output_dim=10):\n",
    "        super().__init__()\n",
    "        self.W1_mu = nn.Parameter(torch.randn(hidden_dim, input_dim) * 0.1)\n",
    "        self.W1_log_std = nn.Parameter(torch.full((hidden_dim, input_dim), -3.0))\n",
    "        self.b1_mu = nn.Parameter(torch.zeros(hidden_dim))\n",
    "        self.b1_log_std = nn.Parameter(torch.full((hidden_dim,), -3.0))\n",
    "\n",
    "        self.W2_mu = nn.Parameter(torch.randn(output_dim, hidden_dim) * 0.1)\n",
    "        self.W2_log_std = nn.Parameter(torch.full((output_dim, hidden_dim), -3.0))\n",
    "        self.b2_mu = nn.Parameter(torch.zeros(output_dim))\n",
    "        self.b2_log_std = nn.Parameter(torch.full((output_dim,), -3.0))\n",
    "\n",
    "    def sample_weights(self):\n",
    "        weights = {}\n",
    "        for name in ['W1', 'b1', 'W2', 'b2']:\n",
    "            mu = getattr(self, f\"{name}_mu\")\n",
    "            log_std = getattr(self, f\"{name}_log_std\")\n",
    "            std = torch.exp(log_std)\n",
    "            eps = torch.randn_like(std)\n",
    "            weights[name] = mu + std * eps\n",
    "        return weights\n",
    "\n",
    "    def forward(self, X, weights=None):\n",
    "        if weights is None:\n",
    "            weights = self.sample_weights()\n",
    "    \n",
    "        Z1 = F.linear(X, weights['W1'], weights['b1'])\n",
    "        A1 = F.relu(Z1)\n",
    "        Z2 = F.linear(A1, weights['W2'], weights['b2'])\n",
    "        return F.log_softmax(Z2, dim=1)\n",
    "\n",
    "\n",
    "    def kl_divergence(self):\n",
    "        kl = 0\n",
    "        for name in ['W1', 'b1', 'W2', 'b2']:\n",
    "            mu = getattr(self, f\"{name}_mu\")\n",
    "            log_std = getattr(self, f\"{name}_log_std\")\n",
    "            std = torch.exp(log_std)\n",
    "            kl += 0.5 * torch.sum(std**2 + mu**2 - 1 - 2 * log_std)\n",
    "        return kl"
   ]
  },
  {
   "cell_type": "markdown",
   "id": "431cfb9f-2bc2-4116-bd08-7ed863a75ad2",
   "metadata": {
    "jp-MarkdownHeadingCollapsed": true
   },
   "source": [
    "## Data Loading and Transformation"
   ]
  },
  {
   "cell_type": "code",
   "execution_count": 3,
   "id": "382374f0-4887-4100-93bb-259f7f40e975",
   "metadata": {},
   "outputs": [],
   "source": [
    "transform = transforms.Compose([transforms.ToTensor(), transforms.Lambda(lambda x: x.view(-1))])\n",
    "train_data = datasets.MNIST(root='./data', train=True, download=True, transform=transform)\n",
    "train_loader = DataLoader(train_data, batch_size=64, shuffle=True)"
   ]
  },
  {
   "cell_type": "code",
   "execution_count": 4,
   "id": "1b93566f-e334-4323-aa55-c1692536d987",
   "metadata": {},
   "outputs": [],
   "source": [
    "device = torch.device(\"cuda\" if torch.cuda.is_available() else \"cpu\")\n",
    "model = BayesianNN().to(device)\n",
    "optimizer = optim.Adam(model.parameters(), lr=1e-3)"
   ]
  },
  {
   "cell_type": "markdown",
   "id": "07ff736a-efe6-46c6-b697-1a41ea1ebbc4",
   "metadata": {
    "jp-MarkdownHeadingCollapsed": true
   },
   "source": [
    "## Training Loop"
   ]
  },
  {
   "cell_type": "markdown",
   "id": "b3625ecc-54e1-422b-8ad0-d418d7c91c1a",
   "metadata": {},
   "source": [
    "To train the model we loop over the data from the training set multiple times, each loop is called an epoch. For each epoch we track the total loss.\n",
    "\n",
    "First we prepare the data by flattening the images so they match the input size of the neural network. The gradients are then (re)set to zero.\n",
    "\n",
    "We then use the reparametrization trick to sample weights. \n",
    "$$\n",
    "w = \\mu + \\sigma \\cdot \\epsilon, \\quad \\epsilon \\sim \\mathcal{N}(0,I) \n",
    "$$\n",
    "Here, a new sample of the network's neights are drawn from each parameter's posterior distribution.\n",
    "\n",
    "Next we do a forward pass which results in the log-probabilities for each class. \n",
    "$$\n",
    "\\mathbf{Z}^{(1)} = \\mathbf{W}^{(1)}\\mathbf{X} + \\mathbf{b}^{(1)} \\quad \\to \\quad \\mathbf{A}^{(1)} = \\text{ReLU}(\\mathbf{Z}^{(1)}) \n",
    "$$\n",
    "$$\n",
    "\\mathbf{Z}^{(2)} = \\mathbf{W}^{(2)}\\mathbf{A}^{(1)} + \\mathbf{b}^{(2)} \\quad \\to \\quad \\mathbf{A}^{(2)} = \\log\\text{-softmax}(\\mathbf{Z}^{(2)})\n",
    "$$\n",
    "The negative log likelihood is calculated to meausre how well the predictions from the model machine the ground truth\n",
    "$$\n",
    "\\text{NLL} \\approx -\\sum_i \\log p(\\text{label}_i \\mid \\mathbf{x}_i; w)\n",
    "$$\n",
    "\n",
    "KL divergence is then calculated as \n",
    "$$\n",
    "\\text{KL}(q(w) \\| p(w)) \\;=\\; \\frac{1}{2} \\sum\\big(\\mu^2 + \\sigma^2 - 1 - 2\\log\\sigma\\big)\n",
    "$$\n",
    "using the variational posterior $q(w)$ and prior $p(w)$. This is added to regularize against the prior.\n",
    "\n",
    "The total loss is calculated, which when we minimise is the same as maximizing the ELBO. After this we do the backwards pass and optimize the parameters for the model."
   ]
  },
  {
   "cell_type": "code",
   "execution_count": 5,
   "id": "b5020a2f-da2f-49af-83a2-1ae0d3af64d6",
   "metadata": {},
   "outputs": [
    {
     "name": "stdout",
     "output_type": "stream",
     "text": [
      "Epoch 1, Loss: 4019.2816\n",
      "Epoch 2, Loss: 3069.7259\n",
      "Epoch 3, Loss: 2386.4645\n",
      "Epoch 4, Loss: 1967.1130\n",
      "Epoch 5, Loss: 1751.4059\n",
      "Epoch 6, Loss: 1598.6106\n",
      "Epoch 7, Loss: 1476.2723\n",
      "Epoch 8, Loss: 1374.6620\n",
      "Epoch 9, Loss: 1286.7060\n",
      "Epoch 10, Loss: 1210.8113\n",
      "Epoch 11, Loss: 1143.1947\n",
      "Epoch 12, Loss: 1083.9078\n",
      "Epoch 13, Loss: 1028.1940\n",
      "Epoch 14, Loss: 976.1795\n",
      "Epoch 15, Loss: 933.4408\n",
      "Epoch 16, Loss: 891.0937\n",
      "Epoch 17, Loss: 856.4808\n",
      "Epoch 18, Loss: 821.4742\n",
      "Epoch 19, Loss: 788.4265\n",
      "Epoch 20, Loss: 758.5482\n"
     ]
    }
   ],
   "source": [
    "import torch\n",
    "import torch.nn.functional as F\n",
    "\n",
    "model.train()\n",
    "for epoch in range(20):\n",
    "    total_loss = 0\n",
    "    for batch_idx, (data, target) in enumerate(train_loader):\n",
    "        data, target = data.to(device), target.to(device)\n",
    "\n",
    "        data = data.view(data.size(0), -1)\n",
    "        optimizer.zero_grad()\n",
    "        weights = model.sample_weights()\n",
    "        \n",
    "        output = model(data, weights)\n",
    "        \n",
    "        nll = F.nll_loss(output, target)\n",
    "        kl = model.kl_divergence() / len(train_loader.dataset)\n",
    "        loss = nll + kl\n",
    "        \n",
    "        loss.backward()\n",
    "        optimizer.step()\n",
    "\n",
    "        total_loss += loss.item()\n",
    "    \n",
    "    print(f\"Epoch {epoch + 1}, Loss: {total_loss:.4f}\") "
   ]
  },
  {
   "cell_type": "markdown",
   "id": "8c9148f7-8c3e-499f-86d4-dc4255265ab2",
   "metadata": {},
   "source": [
    "## Model Evaluation "
   ]
  },
  {
   "cell_type": "markdown",
   "id": "952fd936-8239-4a67-bbdf-8ad32720dfc6",
   "metadata": {},
   "source": [
    "The function `evaluate(model, test_loader, samples=10)` performs Bayesian evaluation of the trained model. Unlike standard evaluation where predictions are made using a fixed set of weights, we sample multiple weight configurations from the learned variational posterior and average the predictions. This reflects model uncertainty in the final prediction.\n",
    "\n",
    "We first draw multiple sampels of the network weights and make the predictions. Then after we get all the samples we compute the mean predicted probabilites and pick the class with the highest value.\n",
    "\n",
    "For each batch the predicted class is compared to the ground truth and then we use this to compute the total accuracy."
   ]
  },
  {
   "cell_type": "code",
   "execution_count": 6,
   "id": "4f00630d-c66a-47e8-a0b4-3080775589b5",
   "metadata": {},
   "outputs": [],
   "source": [
    "test_data = datasets.MNIST(root='./data', train=False, download=True, transform=transform)\n",
    "test_loader = DataLoader(test_data, batch_size=1000, shuffle=False)"
   ]
  },
  {
   "cell_type": "code",
   "execution_count": 7,
   "id": "f4d6a767-ca6d-4a70-8d13-4355243c5a81",
   "metadata": {},
   "outputs": [],
   "source": [
    "def evaluate(model, test_loader, samples=10):\n",
    "    model.eval()\n",
    "    correct = 0\n",
    "    total = 0\n",
    "\n",
    "    with torch.no_grad():\n",
    "        for data, target in test_loader:\n",
    "            data, target = data.to(device), target.to(device)\n",
    "            \n",
    "            data = data.view(data.size(0), -1)\n",
    "\n",
    "            probs_sum = torch.zeros(data.size(0), 10).to(device)\n",
    "            \n",
    "            for _ in range(samples):\n",
    "                weights = model.sample_weights()\n",
    "                output = model(data, weights)\n",
    "                probs_sum += output.exp()\n",
    "\n",
    "            avg_probs = probs_sum / samples\n",
    "            \n",
    "            pred = avg_probs.argmax(dim=1)\n",
    "            correct += (pred == target).sum().item()\n",
    "            total += target.size(0)\n",
    "\n",
    "    accuracy = 100.0 * correct / total\n",
    "    print(f\"Test Accuracy: {accuracy:.2f}%\")"
   ]
  },
  {
   "cell_type": "code",
   "execution_count": 8,
   "id": "274363f4-1600-4a34-987a-b7dd4713fffc",
   "metadata": {},
   "outputs": [
    {
     "name": "stdout",
     "output_type": "stream",
     "text": [
      "Test Accuracy: 98.15%\n"
     ]
    }
   ],
   "source": [
    "evaluate(model, test_loader, samples=10)"
   ]
  },
  {
   "cell_type": "markdown",
   "id": "ddde0006-0c9a-47f8-ac08-5235fb57a87c",
   "metadata": {},
   "source": [
    "## Visualize Model Confidence "
   ]
  },
  {
   "cell_type": "code",
   "execution_count": 9,
   "id": "fde4178b-d807-4a42-ac77-6e1da356f4c5",
   "metadata": {},
   "outputs": [],
   "source": [
    "import matplotlib.pyplot as plt\n",
    "import torch\n",
    "import scipy.stats\n",
    "\n",
    "\n",
    "def plot_prediction_confidence(model, test_loader, samples=30):\n",
    "    model.eval()\n",
    "    confidences = []\n",
    "\n",
    "    with torch.no_grad():\n",
    "        for data, _ in test_loader:\n",
    "            data = data.to(device)\n",
    "            probs_sum = torch.zeros(data.size(0), 10).to(device)\n",
    "\n",
    "            for _ in range(samples):\n",
    "                weights = model.sample_weights()\n",
    "                output = model(data, weights)\n",
    "                probs_sum += output.exp()\n",
    "\n",
    "            avg_probs = probs_sum / samples\n",
    "            max_conf = avg_probs.max(dim=1).values\n",
    "            confidences.extend(max_conf.cpu().numpy())\n",
    "\n",
    "    plt.hist(confidences, bins=20, range=(0, 1), color='steelblue', edgecolor='black')\n",
    "    plt.title(\"Prediction Confidence Distribution\")\n",
    "    plt.xlabel(\"Max Predicted Probability\")\n",
    "    plt.ylabel(\"Number of Samples\")\n",
    "    plt.grid(True)\n",
    "    plt.show()\n",
    "\n",
    "def plot_entropy_distribution(model, test_loader, samples=30):\n",
    "    model.eval()\n",
    "    entropies = []\n",
    "\n",
    "    with torch.no_grad():\n",
    "        for data, _ in test_loader:\n",
    "            data = data.to(device)\n",
    "            probs_sum = torch.zeros(data.size(0), 10).to(device)\n",
    "\n",
    "            for _ in range(samples):\n",
    "                weights = model.sample_weights()\n",
    "                output = model(data, weights)\n",
    "                probs_sum += output.exp()\n",
    "\n",
    "            avg_probs = (probs_sum / samples).cpu().numpy()\n",
    "            entropy = scipy.stats.entropy(avg_probs.T)  # shape: (batch,)\n",
    "            entropies.extend(entropy)\n",
    "\n",
    "    plt.hist(entropies, bins=30, color='darkorange', edgecolor='black')\n",
    "    plt.title(\"Predictive Entropy Distribution\")\n",
    "    plt.xlabel(\"Entropy\")\n",
    "    plt.ylabel(\"Number of Samples\")\n",
    "    plt.grid(True)\n",
    "    plt.show()"
   ]
  },
  {
   "cell_type": "code",
   "execution_count": 10,
   "id": "679af827-a09c-430c-8591-061826716e5b",
   "metadata": {},
   "outputs": [
    {
     "data": {
      "image/png": "[encoded data removed]",
      "text/plain": [
       "<Figure size 640x480 with 1 Axes>"
      ]
     },
     "metadata": {},
     "output_type": "display_data"
    }
   ],
   "source": [
    "plot_prediction_confidence(model, test_loader, samples=30)"
   ]
  },
  {
   "cell_type": "code",
   "execution_count": 11,
   "id": "cfb6adec-b095-4293-a33f-180f32a657ee",
   "metadata": {},
   "outputs": [
    {
     "data": {
      "image/png": "[encoded data removed]",
      "text/plain": [
       "<Figure size 640x480 with 1 Axes>"
      ]
     },
     "metadata": {},
     "output_type": "display_data"
    }
   ],
   "source": [
    "plot_entropy_distribution(model, test_loader, samples=30)"
   ]
  },
  {
   "cell_type": "markdown",
   "id": "7b45dc33-aaa5-4e8f-927a-3fdc187cff00",
   "metadata": {},
   "source": [
    "## View Predictions"
   ]
  },
  {
   "cell_type": "code",
   "execution_count": 12,
   "id": "7243b542-27ae-4587-b215-384b477b4a01",
   "metadata": {},
   "outputs": [],
   "source": [
    "import torch\n",
    "import matplotlib.pyplot as plt\n",
    "import scipy.stats\n",
    "\n",
    "def test_prediction(index, model, test_dataset, num_samples=30):\n",
    "    model.eval()\n",
    "\n",
    "    image, label = test_dataset[index]\n",
    "    image = image.view(1, -1).to(device)  # shape: (1, 784)\n",
    "\n",
    "    probs_sum = torch.zeros((1, 10)).to(device)\n",
    "    with torch.no_grad():\n",
    "        for _ in range(num_samples):\n",
    "            weights = model.sample_weights()\n",
    "            output = model(image, weights)  # log-probs\n",
    "            probs_sum += output.exp()       # convert to probs\n",
    "\n",
    "    avg_probs = probs_sum / num_samples\n",
    "    entropy = scipy.stats.entropy(avg_probs.cpu().numpy()[0], base=2)\n",
    "    prediction = torch.argmax(avg_probs, dim=1).item()\n",
    "\n",
    "    print(\"Prediction:\", prediction)\n",
    "    print(\"Label:     \", label)\n",
    "    print(\"Entropy:   {:.4f}\".format(entropy))\n",
    "\n",
    "    img = image.view(28, 28).cpu().numpy() * 255\n",
    "    plt.gray()\n",
    "    plt.imshow(img, interpolation='nearest')\n",
    "    plt.show()"
   ]
  },
  {
   "cell_type": "code",
   "execution_count": 13,
   "id": "3e17cc2d-83a2-4c17-bd16-7403f10edc5e",
   "metadata": {},
   "outputs": [
    {
     "name": "stdout",
     "output_type": "stream",
     "text": [
      "Prediction: 7\n",
      "Label:      7\n",
      "Entropy:   0.0029\n"
     ]
    },
    {
     "data": {
      "image/png": "[encoded data removed]",
      "text/plain": [
       "<Figure size 640x480 with 1 Axes>"
      ]
     },
     "metadata": {},
     "output_type": "display_data"
    }
   ],
   "source": [
    "test_prediction(index=17, model=model, test_dataset=test_data, num_samples=30)"
   ]
  },
  {
   "cell_type": "code",
   "execution_count": 14,
   "id": "cb4ff2f6-23af-4289-bb60-a14fa7303951",
   "metadata": {},
   "outputs": [
    {
     "name": "stdout",
     "output_type": "stream",
     "text": [
      "Prediction: 2\n",
      "Label:      2\n",
      "Entropy:   0.0010\n"
     ]
    },
    {
     "data": {
      "image/png": "[encoded data removed]",
      "text/plain": [
       "<Figure size 640x480 with 1 Axes>"
      ]
     },
     "metadata": {},
     "output_type": "display_data"
    }
   ],
   "source": [
    "test_prediction(index=1, model=model, test_dataset=test_data, num_samples=30)"
   ]
  },
  {
   "cell_type": "markdown",
   "id": "f67aa8c4-96a3-4c85-af9f-7de9da5ea681",
   "metadata": {},
   "source": [
    "## Visualize Prediction Confidence"
   ]
  },
  {
   "cell_type": "code",
   "execution_count": 15,
   "id": "a75698bf-b525-41e3-8200-1a083502390f",
   "metadata": {},
   "outputs": [],
   "source": [
    "import torch\n",
    "\n",
    "def predict_with_uncertainty(model, x, n_iter=100):\n",
    "    model.train()  \n",
    "    preds = []\n",
    "    for _ in range(n_iter):\n",
    "        pred = model(x)\n",
    "        preds.append(pred.unsqueeze(0))\n",
    "    preds = torch.cat(preds, dim=0)\n",
    "    mean_prediction = preds.mean(dim=0)\n",
    "    std_prediction = preds.std(dim=0)\n",
    "    return mean_prediction, std_prediction\n"
   ]
  },
  {
   "cell_type": "code",
   "execution_count": 16,
   "id": "aca54a24-6d3d-40a9-9414-74cfa4fe7fe5",
   "metadata": {},
   "outputs": [],
   "source": [
    "import matplotlib.pyplot as plt\n",
    "import numpy as np\n",
    "import torch\n",
    "\n",
    "def visualize_prediction_uncertainty(image, mean_pred, std_pred, true_label=None):\n",
    "    probs = torch.softmax(mean_pred, dim=0).detach().cpu().numpy()\n",
    "\n",
    "    errors = std_pred.detach().cpu().numpy()\n",
    "\n",
    "    errors = np.clip(errors, 0.0, 0.25)\n",
    "\n",
    "    fig, axs = plt.subplots(1, 2, figsize=(12, 5))\n",
    "\n",
    "    if image.dim() == 3 and image.shape[0] == 1:\n",
    "        image = image.squeeze(0)\n",
    "    axs[0].imshow(image, cmap='gray')\n",
    "    axs[0].set_title(\"Input Image\")\n",
    "    axs[0].axis(\"off\")\n",
    "\n",
    "    x = np.arange(len(probs))\n",
    "    axs[1].bar(x, probs, yerr=errors, capsize=5)\n",
    "    axs[1].set_xticks(x)\n",
    "    axs[1].set_ylim([0, 1])  \n",
    "    axs[1].set_xlabel(\"Classes\")\n",
    "    axs[1].set_ylabel(\"Predicted Probability\")\n",
    "    title = \"Predictive Uncertainty\"\n",
    "    if true_label is not None:\n",
    "        title += f\" (True label: {true_label})\"\n",
    "    axs[1].set_title(title)\n",
    "\n",
    "    plt.tight_layout()\n",
    "    plt.show()\n"
   ]
  },
  {
   "cell_type": "code",
   "execution_count": 18,
   "id": "a52e2098-88ab-4263-a1c5-886107e2ac27",
   "metadata": {},
   "outputs": [
    {
     "data": {
      "image/png": "[encoded data removed]",
      "text/plain": [
       "<Figure size 1200x500 with 2 Axes>"
      ]
     },
     "metadata": {},
     "output_type": "display_data"
    }
   ],
   "source": [
    "import torch\n",
    "from torchvision import datasets, transforms\n",
    "from torch.utils.data import DataLoader\n",
    "\n",
    "transform = transforms.ToTensor()\n",
    "test_dataset = datasets.MNIST(root='./data', train=False, download=True, transform=transform)\n",
    "test_loader = DataLoader(test_dataset, batch_size=1, shuffle=True)\n",
    "\n",
    "sample, label = next(iter(test_loader))\n",
    "\n",
    "sample_flat = sample.view(sample.size(0), -1)\n",
    "\n",
    "mean_pred, std_pred = predict_with_uncertainty(model, sample_flat, n_iter=100)\n",
    "\n",
    "visualize_prediction_uncertainty(\n",
    "    image=sample[0],\n",
    "    mean_pred=mean_pred[0],\n",
    "    std_pred=std_pred[0],\n",
    "    true_label=label.item()\n",
    ")\n"
   ]
  },
  {
   "cell_type": "code",
   "execution_count": null,
   "id": "ffd8dfe7-df1b-41ac-a7a4-c0c450c98029",
   "metadata": {},
   "outputs": [],
   "source": []
  }
 ],
 "metadata": {
  "kernelspec": {
   "display_name": "Python 3 (ipykernel)",
   "language": "python",
   "name": "python3"
  },
  "language_info": {
   "codemirror_mode": {
    "name": "ipython",
    "version": 3
   },
   "file_extension": ".py",
   "mimetype": "text/x-python",
   "name": "python",
   "nbconvert_exporter": "python",
   "pygments_lexer": "ipython3",
   "version": "3.11.7"
  }
 },
 "nbformat": 4,
 "nbformat_minor": 5
}
